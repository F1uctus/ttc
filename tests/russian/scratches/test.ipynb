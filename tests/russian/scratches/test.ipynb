{
 "cells": [
  {
   "cell_type": "code",
   "execution_count": 1,
   "metadata": {
    "pycharm": {
     "name": "#%%\n"
    },
    "scrolled": false
   },
   "outputs": [],
   "source": [
    "from typing import Iterator, Iterable, Callable\n",
    "\n",
    "import spacy\n",
    "from spacy import Errors\n",
    "from spacy import displacy\n",
    "from spacy.matcher import DependencyMatcher\n",
    "from spacy.parts_of_speech import *\n",
    "from spacy.tokens import Doc\n",
    "from spacy.tokens import Span\n",
    "from spacy.tokens import Token\n",
    "\n",
    "from ttc.language.russian.constants import SPEAKING_VERBS"
   ]
  },
  {
   "cell_type": "code",
   "execution_count": 2,
   "metadata": {
    "pycharm": {
     "name": "#%%\n"
    },
    "scrolled": true
   },
   "outputs": [],
   "source": [
    "nlp = spacy.load(\"ru_core_news_sm\")\n",
    "nlp_md = spacy.load(\"ru_core_news_md\")\n",
    "# nlp_lg = spacy.load(\"ru_core_news_lg\")"
   ]
  },
  {
   "cell_type": "code",
   "execution_count": null,
   "outputs": [],
   "source": [
    "doc = nlp(\"Один из них, худощавый, с подвижным лицом, приблизился к Гусеву и быстро проговорил.\")\n",
    "displacy.render(doc, style=\"dep\")"
   ],
   "metadata": {
    "collapsed": false,
    "pycharm": {
     "name": "#%%\n"
    }
   }
  },
  {
   "cell_type": "code",
   "execution_count": null,
   "metadata": {
    "pycharm": {
     "name": "#%%\n"
    },
    "scrolled": true
   },
   "outputs": [],
   "source": [
    "doc = nlp(\"– В Четвертом мосту грядут перемены, – объявил Каладин.\")\n",
    "displacy.render(doc, style=\"dep\")"
   ]
  },
  {
   "cell_type": "code",
   "execution_count": null,
   "metadata": {
    "pycharm": {
     "name": "#%%\n"
    },
    "scrolled": true
   },
   "outputs": [],
   "source": [
    "doc = nlp(\"\"\"Беги, парнишка, домой и передай мой привет своим близким!\"\"\")\n",
    "displacy.render(doc.sents, style=\"dep\")"
   ]
  },
  {
   "cell_type": "code",
   "execution_count": null,
   "metadata": {
    "pycharm": {
     "name": "#%%\n"
    },
    "scrolled": true
   },
   "outputs": [],
   "source": [
    "doc = nlp(\n",
    "    \"– Нет! –рявкнул Каладин. – Вылазки с мостом выматывают нас, потому что мы бóльшую часть времени бездельничаем. О, я знаю, нас заставляют работать – осматривать ущелья, чистить нужники, драить полы. Но солдаты не хотят, чтобы мы по-настоящему трудились, – им просто нужно нас занять. Поручая нам какое-нибудь дело, они про нас забывают. Поскольку я теперь ваш старшина, моя задача – сохранить вам жизнь. Стрелы паршенди никуда не исчезнут, поэтому я буду менять вас. Хочу сделать вас сильнее, чтобы на последнем отрезке пути с мостом, когда полетят стрелы, вы смогли бежать быстро. – Он посмотрел в глаза каждому. – Я собираюсь устроить так, чтобы Четвертый мост больше не потерял ни одного человека.\")\n",
    "\n",
    "displacy.render(doc, style=\"dep\")"
   ]
  },
  {
   "cell_type": "code",
   "execution_count": null,
   "metadata": {
    "pycharm": {
     "name": "#%%\n"
    },
    "scrolled": true
   },
   "outputs": [],
   "source": [
    "doc = nlp(\"\"\"Один Сафронов остался без сна. Он глядел на лежащих людей и с горечью высказывался:\n",
    "— Эх ты, масса, масса. Трудно организовать из тебя скелет коммунизма! И что тебе надо? Стерве такой? Ты весь авангард, гадина, замучила!\n",
    "И четко сознавая бедную отсталость масс, Сафронов прильнул к какому-то уставшему и забылся в глуши сна.\n",
    "А утром он, не вставая с ложа, приветствовал девочку, пришедшую с Чиклиным, как элемент будущего и затем снова задремал.\"\"\")\n",
    "\n",
    "displacy.render(doc, style=\"dep\")"
   ]
  },
  {
   "cell_type": "code",
   "execution_count": null,
   "metadata": {
    "pycharm": {
     "name": "#%%\n"
    },
    "scrolled": true
   },
   "outputs": [],
   "source": [
    "doc = nlp(\"\"\"Михайло важно снимает огромную Гришину ручищу с колен и отвечает:\n",
    "— Ты меня не трожь.\"\"\")\n",
    "displacy.render(doc, style=\"dep\")"
   ]
  },
  {
   "cell_type": "code",
   "execution_count": null,
   "metadata": {
    "pycharm": {
     "name": "#%%\n"
    },
    "scrolled": true
   },
   "outputs": [],
   "source": [
    "doc = nlp_md(\"\"\"Михайло важно снимает огромную Гришину ручищу с колен и\n",
    "отвечает:\n",
    "— Ты меня не трожь.\"\"\")\n",
    "displacy.render(doc, style=\"dep\")"
   ]
  },
  {
   "cell_type": "code",
   "execution_count": 3,
   "outputs": [],
   "source": [
    "from ttc.language.russian.constants import HYPHENS, CLOSE_QUOTES\n",
    "\n",
    "from ttc.language.russian.constants import OPEN_QUOTES\n",
    "\n",
    "Token.set_extension(\n",
    "    \"is_speaking_verb\",\n",
    "    force=True,\n",
    "    getter=lambda t: any(sv in t.text for sv in SPEAKING_VERBS),\n",
    ")\n",
    "\n",
    "PREDICATIVE_TOKEN_EXTENSIONS = {\n",
    "    \"is_sent_end\": lambda t: t.is_sent_end,\n",
    "    \"is_hyphen\": lambda t: t.text in HYPHENS,\n",
    "    \"is_newline\": lambda t: \"\\n\" in t.text,\n",
    "    \"is_open_quote\": lambda t: t.text in OPEN_QUOTES,\n",
    "    \"is_close_quote\": lambda t: t.text in CLOSE_QUOTES,\n",
    "    \"is_speaking_verb\": lambda t: any(v in t.lemma_ for v in SPEAKING_VERBS),\n",
    "    \"is_not_second_person\": lambda t: \"Person=Second\" not in t.morph,\n",
    "}\n",
    "\n",
    "for name, pred in PREDICATIVE_TOKEN_EXTENSIONS.items():\n",
    "    if not Token.has_extension(name):\n",
    "        Token.set_extension(name, getter=pred)"
   ],
   "metadata": {
    "collapsed": false,
    "pycharm": {
     "name": "#%%\n"
    }
   }
  },
  {
   "cell_type": "code",
   "execution_count": null,
   "outputs": [],
   "source": [
    "SPEAKER_TO_SPEAKING_VERB = [\n",
    "    {  # (anchor) speaker\n",
    "        \"RIGHT_ID\": \"speaker\",\n",
    "        \"RIGHT_ATTRS\": {\n",
    "            \"DEP\": \"nsubj\",\n",
    "        },\n",
    "    },\n",
    "    {  # speaker <--- speaking verb\n",
    "        \"LEFT_ID\": \"speaker\",\n",
    "        \"REL_OP\": \"<\",\n",
    "        \"RIGHT_ID\": \"speaking_verb\",\n",
    "        \"RIGHT_ATTRS\": {\n",
    "            \"POS\": \"VERB\",\n",
    "            \"_\": {\"is_speaking_verb\": True},\n",
    "        },\n",
    "    },\n",
    "]\n",
    "\n",
    "SPEAKER_CONJUNCT_SPEAKING_VERB = [\n",
    "    {  # (anchor) speaker\n",
    "        \"RIGHT_ID\": \"speaker\",\n",
    "        \"RIGHT_ATTRS\": {\n",
    "            \"DEP\": \"nsubj\",\n",
    "        },\n",
    "    },\n",
    "    {  # speaker <--- conjunct\n",
    "        \"LEFT_ID\": \"speaker\",\n",
    "        \"REL_OP\": \"<\",\n",
    "        \"RIGHT_ID\": \"conjunct\",\n",
    "        \"RIGHT_ATTRS\": {},\n",
    "    },\n",
    "    {  # conjunct ---> speaking verb\n",
    "        \"LEFT_ID\": \"conjunct\",\n",
    "        \"REL_OP\": \">\",\n",
    "        \"RIGHT_ID\": \"speaking_verb\",\n",
    "        \"RIGHT_ATTRS\": {\n",
    "            \"POS\": \"VERB\",\n",
    "            \"_\": {\"is_speaking_verb\": True},\n",
    "        },\n",
    "    },\n",
    "]"
   ],
   "metadata": {
    "collapsed": false,
    "pycharm": {
     "name": "#%%\n"
    }
   }
  },
  {
   "cell_type": "code",
   "execution_count": null,
   "metadata": {
    "pycharm": {
     "name": "#%%\n"
    },
    "scrolled": false
   },
   "outputs": [],
   "source": [
    "text = \"\"\"\n",
    "— Что есть счастье? — вдруг громко спрашивает Гриша. Михайло смотрит на него, и вся физиономия его расплывается, как от сна. Всего полчаса назад он, отобрав четырех малышей шестилетнего возраста, лихо отплясывал с ними в хороводе, покуда не упал, чуть не раздавив одного из них.\n",
    "Не получив ответа, Гриша жадно макает свою кудрявую голову в пиво, потом нагибается к Михайле, хлопает его по колену и хрипло говорит:\n",
    "— Слышь, браток... Почему ты счастлив... Скажи... Корову подарю...\n",
    "Михайло важно снимает огромную Гришину ручищу с колен и отвечает:\n",
    "— Ты меня не трожь.\n",
    "Гриша вздыхает.\n",
    "— Ведь все вроде у меня есть, что у тебя... Корова, четыре бабы, хата с крышей, пчелы... Подумаю так: чево мне яще желать? Ничевошеньки. А автомобиля: «ЗИЛ» там или грузовик — мне и задаром не нужно: тише едешь, дальше будешь... Все у меня есть, — заключает Гриша.\n",
    "Михайло молчит, утонув в пиве.\n",
    "— Только мелочное все это, что у меня есть, — продолжает Гриша. — Не по размерам, а просто так, по душе... Мелочное, потому что мысли у меня есть. Оттого и страшно.\n",
    "— Иди ты, — отвечает Михайло.\n",
    "— Тоскливо мне чего-то жить, Мишук, — бормочет Гриша, опустив свою квадратную челюсть на стол.\n",
    "— А чево?\n",
    "— Да так... Тяжело все... Люди везде, комары... Опять же ночи... Облака... Очень скушно мне вставать по утрам... Руки... Сердце...\n",
    "— Плохое это, — мычит Михайло.\n",
    "Напившись пива, он становится разговорчивей, но так и не поднимая полностью завесы над своей великой тайной — тайной счастья. Лишь жирное, прыщеватое лицо его сияет как масленое солнышко.\n",
    "— К бабе, к примеру, подход нужен, — поучает он, накрошив хлеба в рот. — Баба, она не корова, хоть и пузо у нее мягкое... Ее с замыслом выбирать нужно... К примеру, у меня есть девки на все случаи: одна, с которой я сплю завсегда после грозы, другая лунная (при луне, значит), с третьей — я только после баньки... Вот так.\n",
    "Михайло совсем растаял от счастья и опять утонул в пиве.\n",
    "— А меня все это не шевелит, — рассуждает Гриша. — Я и сам все это знаю.\n",
    "— Счастье — это довольство... И чтоб никаких мыслей, — наконец проговаривается Михайло.\n",
    "— Вот мыслей-то я и боюсь, — обрадовался Гриша. — Завсегда они у меня скачут. Удержу нет. И откуда только они появляются. Намедни совсем веселый был. Хотя и дочка кипятком обварилась. Шел себе просто по дороге, свистел. И увидал елочку, махонькую такую, облеванную... И так чего-то пужливо мне стало, пужливо... Или вот когда просто мысль появляется... Все ничего, ничего, пусто, и вдруг — бац! — мысль... Боязно очень. Особенно о себе боюсь думать.\n",
    "— Ишь ты... О себе — оно иной раз бывает самое приятное думать, — скалится Михайло, поглаживая себя по животу.\n",
    "В деревушке, как в лесу, не слышно ни единого непристойного звука. Все спит. Лишь вдали, поводя бедрами, выходит посмотреть на тучки упитанная дева, Тамарочка.\n",
    "\"\"\"\n",
    "doc_sm = nlp(text)\n",
    "doc_md = nlp_md(text)\n",
    "\n",
    "m = DependencyMatcher(nlp.vocab)\n",
    "m.add(\"*\", [SPEAKER_TO_SPEAKING_VERB])\n",
    "m.add(\"**\", [SPEAKER_CONJUNCT_SPEAKING_VERB])\n",
    "x = list(doc_sm.sents)[8]\n",
    "print(x, list(x)[7:11])\n",
    "print(x[9], x[9].tag_, x[9].i, x[9].dep_, x[9].head, list(x[9].lefts), list\n",
    "(x[9].rights), list(x[9].ancestors), list(x[9].children))\n",
    "print(x[8], x[8].tag_, x[8].i, x[8].dep_)\n",
    "print(x[2], x[2].tag_, x[2].i, x[2].dep_, x[2].head, list(x[2].lefts), list\n",
    "(x[2].rights), list(x[2].ancestors), list(x[2].children))\n",
    "print(x[1], x[1].tag_, x[1].i, x[1].dep_, x[1].head, list(x[1].lefts), list\n",
    "(x[1].rights), list(x[1].ancestors), list(x[1].children))\n",
    "print(x[0], x[0].tag_, x[0].i, x[0].dep_, x[0].head, list(x[0].lefts), list\n",
    "(x[0].rights), list(x[0].ancestors), list(x[0].children))\n",
    "print()\n",
    "for match_id, token_ids in m(x):\n",
    "    print([x[ti] for ti in token_ids])\n",
    "\n",
    "displacy.render(doc_sm, style=\"dep\")\n",
    "\n",
    "print(\"\\n\")\n",
    "m = DependencyMatcher(nlp_md.vocab)\n",
    "m.add(\"*\", [SPEAKER_TO_SPEAKING_VERB])\n",
    "m.add(\"**\", [SPEAKER_CONJUNCT_SPEAKING_VERB])\n",
    "x = list(doc_md.sents)[8]\n",
    "print(x, list(x)[7:11])\n",
    "print(x[9], x[9].tag_, x[9].i, x[9].dep_, x[9].head, list(x[9].lefts), list\n",
    "(x[9].rights), list(x[9].ancestors), list(x[9].children))\n",
    "print(x[8], x[8].tag_, x[8].i, x[8].dep_)\n",
    "print(x[2], x[2].tag_, x[2].i, x[2].dep_, x[2].head, list(x[2].lefts), list\n",
    "(x[2].rights), list(x[2].ancestors), list(x[2].children))\n",
    "print(x[1], x[1].tag_, x[1].i, x[1].dep_, x[1].head, list(x[1].lefts), list\n",
    "(x[1].rights), list(x[1].ancestors), list(x[1].children))\n",
    "print(x[0], x[0].tag_, x[0].i, x[0].dep_, x[0].head, list(x[0].lefts), list\n",
    "(x[0].rights), list(x[0].ancestors), list(x[0].children))\n",
    "print()\n",
    "for match_id, token_ids in m(x):\n",
    "    print([x[ti] for ti in token_ids])\n",
    "\n",
    "displacy.render(doc_md, style=\"dep\")"
   ]
  },
  {
   "cell_type": "code",
   "execution_count": null,
   "metadata": {
    "pycharm": {
     "name": "#%%\n"
    },
    "scrolled": true
   },
   "outputs": [],
   "source": [
    "doc = nlp_md(\"\"\"Один из них, худощавый, с подвижным лицом, приблизился к Гусеву и быстро проговорил:\n",
    "— Гусев Борис Владимирович. Вы арестованы.\"\"\")\n",
    "displacy.render(doc, style=\"dep\")"
   ]
  },
  {
   "cell_type": "code",
   "execution_count": null,
   "metadata": {
    "pycharm": {
     "name": "#%%\n"
    },
    "scrolled": true
   },
   "outputs": [],
   "source": [
    "def traverse_children(\n",
    "    word: Token,\n",
    "    children_selector: Callable[[Token], Iterable[Token]],\n",
    "    dep_predicate: Callable[[Token], bool],\n",
    "):\n",
    "    children = list(children_selector(word))\n",
    "    max_i = max((i for i, c in enumerate(children) if dep_predicate(c)),\n",
    "                default=-1)\n",
    "    return (\n",
    "        traverse_children(\n",
    "            children[max_i],\n",
    "            children_selector,\n",
    "            dep_predicate,\n",
    "        )\n",
    "        if max_i > -1\n",
    "        else word\n",
    "    )\n",
    "\n",
    "\n",
    "def _noun_chunks(doclike: Doc | Span) -> Iterator[tuple[int, int, int]]:\n",
    "    \"\"\"Detect base noun phrases from a dependency parse. Works on Doc and Span.\"\"\"\n",
    "    doc = doclike.doc  # Ensure works on both Doc and Span.\n",
    "\n",
    "    if not doc.has_annotation(\"DEP\"):\n",
    "        raise ValueError(Errors.E029)\n",
    "\n",
    "    np_label = doc.vocab.strings.add(\"NP\")\n",
    "    labels = [\"nsubj\", \"nsubj:pass\", \"obj\", \"iobj\", \"appos\", \"ROOT\", \"obl\"]\n",
    "    np_deps = [doc.vocab.strings.add(label) for label in labels]\n",
    "\n",
    "    prev_end = -1\n",
    "\n",
    "    for i, word in enumerate(doclike):\n",
    "        # Prevent nested chunks from being produced\n",
    "        if word.left_edge.i <= prev_end:\n",
    "            continue\n",
    "\n",
    "        if word.pos not in (NOUN, PROPN, PRON, NUM):\n",
    "            continue\n",
    "\n",
    "        if word.dep not in np_deps:\n",
    "            continue\n",
    "\n",
    "        start = traverse_children(\n",
    "            word,\n",
    "            lambda t: t.lefts,\n",
    "            lambda t: t.dep_ in (\"nmod\", \"amod\", \"obl\", \"flat:name\", \"appos\"),\n",
    "        )\n",
    "\n",
    "        end = traverse_children(\n",
    "            word,\n",
    "            lambda t: t.rights,\n",
    "            lambda t: (\n",
    "                t.dep_ in (\n",
    "                \"nmod\", \"amod\", \"acl\", \"obl\", \"case\", \"flat:name\", \"appos\")\n",
    "                or t.dep_.startswith(\"acl\")\n",
    "            ),\n",
    "        )\n",
    "\n",
    "        prev_end = end.i\n",
    "        yield start.i, end.i + 1, np_label"
   ]
  },
  {
   "cell_type": "code",
   "execution_count": null,
   "metadata": {
    "pycharm": {
     "name": "#%%\n"
    },
    "scrolled": true
   },
   "outputs": [],
   "source": [
    "doc = nlp(\"\"\"Один из них, худощавый, с подвижным лицом, приблизился к Гусеву и быстро проговорил:\n",
    "— Гусев Борис Владимирович. Вы арестованы.\"\"\")\n",
    "ncs = [doc[a: b] for a, b, c in _noun_chunks(doc)]\n",
    "print(\" || \".join(str(s) for s in ncs))\n",
    "print(doc.ents)\n",
    "displacy.render(ncs[0], style=\"dep\")"
   ]
  },
  {
   "cell_type": "code",
   "execution_count": null,
   "metadata": {
    "pycharm": {
     "name": "#%%\n"
    },
    "scrolled": true
   },
   "outputs": [],
   "source": [
    "doc = nlp(\"\"\"Михайло молчит, утонув в пиве.\n",
    "— Только мелочное все это, что у меня есть, — продолжает Гриша.\"\"\")\n",
    "print([doc[a: b] for a, b, c in _noun_chunks(doc)])\n",
    "print(doc.ents)\n",
    "print(doc[doc[0].left_edge.i: doc[0].right_edge.i + 1])"
   ]
  },
  {
   "cell_type": "code",
   "execution_count": null,
   "metadata": {
    "pycharm": {
     "name": "#%%\n"
    },
    "scrolled": true
   },
   "outputs": [],
   "source": [
    "displacy.render(doc, style=\"dep\")"
   ]
  },
  {
   "cell_type": "code",
   "execution_count": null,
   "metadata": {
    "pycharm": {
     "name": "#%%\n"
    },
    "scrolled": true
   },
   "outputs": [],
   "source": [
    "doc = nlp(\"Она позвонила мне из больницы, очень расстроенная.\")\n",
    "print([doc[a: b] for a, b, c in _noun_chunks(doc)])\n",
    "displacy.render(doc, style=\"dep\")"
   ]
  },
  {
   "cell_type": "code",
   "execution_count": null,
   "metadata": {
    "pycharm": {
     "name": "#%%\n"
    },
    "scrolled": true
   },
   "outputs": [],
   "source": [
    "doc = nlp(\n",
    "    \"— Я нашел твою девушку, — сказал Чиклин Прушевскому. — Пойдем смотреть ее, она еще цела.\")\n",
    "print([doc[a: b] for a, b, c in _noun_chunks(doc)])\n",
    "displacy.render(doc, style=\"dep\")"
   ]
  },
  {
   "cell_type": "code",
   "execution_count": null,
   "metadata": {
    "pycharm": {
     "name": "#%%\n"
    },
    "scrolled": true
   },
   "outputs": [],
   "source": [
    "doc = nlp_md(\"\"\"Сзет потянулся за кружкой.\n",
    "– Эй! – Тон быстро убирал ее. – Пиво-то не трожь! Я еще не допил!\"\"\")\n",
    "print(list(doc.sents))\n",
    "print([doc[a: b] for a, b, c in _noun_chunks(doc)])\n",
    "displacy.render(doc, style=\"dep\")"
   ]
  },
  {
   "cell_type": "code",
   "execution_count": null,
   "metadata": {
    "pycharm": {
     "name": "#%%\n"
    },
    "scrolled": true
   },
   "outputs": [],
   "source": [
    "doc = nlp(\"\"\"– Если бы допил, – хмыкнул Тук, – ему бы нечего было вылить себе на голову, правда?\n",
    "– Пусть он что-то другое сделает, – проворчал Тон.\n",
    "– Ну ладно. – Тук вытащил засапожный нож.\"\"\")\n",
    "print(list(doc.sents))\n",
    "print([doc[a: b] for a, b, c in _noun_chunks(doc)])\n",
    "displacy.render(doc, style=\"dep\")"
   ]
  },
  {
   "cell_type": "code",
   "execution_count": null,
   "metadata": {
    "pycharm": {
     "name": "#%%\n"
    },
    "scrolled": true
   },
   "outputs": [],
   "source": [
    "doc = nlp(\"Да заткнись ты. — (\")\n",
    "\n",
    "\n",
    "def trim_span(span: Span, should_trim: Callable[[Token], bool]):\n",
    "    doc = span.doc\n",
    "    start = span.start\n",
    "    while start < span.end and should_trim(doc[start]):\n",
    "        start += 1\n",
    "    end = span.end\n",
    "    while end > span.start and should_trim(doc[end]):\n",
    "        end -= 1\n",
    "    return doc[start:end]\n",
    "\n",
    "\n",
    "def should_trim(t: Token):\n",
    "    return t.is_punct or t._.is_newline\n",
    "\n",
    "\n",
    "trim_span(doc[0:-1], should_trim)"
   ]
  }
 ],
 "metadata": {
  "kernelspec": {
   "display_name": "Python 3 (ipykernel)",
   "language": "python",
   "name": "python3"
  },
  "language_info": {
   "codemirror_mode": {
    "name": "ipython",
    "version": 3
   },
   "file_extension": ".py",
   "mimetype": "text/x-python",
   "name": "python",
   "nbconvert_exporter": "python",
   "pygments_lexer": "ipython3",
   "version": "3.8.10"
  }
 },
 "nbformat": 4,
 "nbformat_minor": 1
}