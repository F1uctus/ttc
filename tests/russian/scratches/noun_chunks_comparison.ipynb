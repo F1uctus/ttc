{
 "cells": [
  {
   "cell_type": "code",
   "execution_count": 9,
   "metadata": {
    "pycharm": {
     "name": "#%%\n"
    },
    "scrolled": false
   },
   "outputs": [],
   "source": [
    "from typing import Iterator, Iterable, Callable\n",
    "\n",
    "import spacy\n",
    "from spacy import Errors\n",
    "from spacy import displacy\n",
    "from spacy.matcher import DependencyMatcher\n",
    "from spacy.parts_of_speech import *\n",
    "from spacy.tokens import Doc\n",
    "from spacy.tokens import Span\n",
    "from spacy.tokens import Token\n",
    "\n",
    "from ttc.language.russian.constants import SPEAKING_VERBS"
   ]
  },
  {
   "cell_type": "code",
   "execution_count": 10,
   "metadata": {
    "pycharm": {
     "name": "#%%\n"
    },
    "scrolled": true
   },
   "outputs": [],
   "source": [
    "import ttc.language.russian.pipelines as russian_pipelines\n",
    "nlp = spacy.load(\"ru_core_news_sm\")\n",
    "russian_pipelines.register_for(nlp)\n",
    "# nlp_md = spacy.load(\"ru_core_news_md\")\n",
    "# russian_pipelines.register_for(nlp_md)\n",
    "# nlp_lg = spacy.load(\"ru_core_news_lg\")\n",
    "# russian_pipelines.register_for(nlp_lg)"
   ]
  },
  {
   "cell_type": "code",
   "execution_count": 11,
   "metadata": {
    "pycharm": {
     "name": "#%%\n"
    },
    "scrolled": false
   },
   "outputs": [],
   "source": [
    "from spacy.lang.ca.syntax_iterators import noun_chunks as noun_chunks_ca  # #\n",
    "from spacy.lang.da.syntax_iterators import noun_chunks as noun_chunks_da  # # # # # # # #\n",
    "from spacy.lang.de.syntax_iterators import noun_chunks as noun_chunks_de  #\n",
    "from spacy.lang.el.syntax_iterators import noun_chunks as noun_chunks_el  # # #   # #   #\n",
    "from spacy.lang.en.syntax_iterators import noun_chunks as noun_chunks_en  #         #   #\n",
    "from spacy.lang.es.syntax_iterators import noun_chunks as noun_chunks_es  #         # # #\n",
    "from spacy.lang.fa.syntax_iterators import noun_chunks as noun_chunks_fa  #         #   #\n",
    "from spacy.lang.fi.syntax_iterators import noun_chunks as noun_chunks_fi  #     # #     #\n",
    "from spacy.lang.fr.syntax_iterators import noun_chunks as noun_chunks_fr  #       # # # #\n",
    "from spacy.lang.id.syntax_iterators import noun_chunks as noun_chunks_id  #   #   #   #\n",
    "from spacy.lang.it.syntax_iterators import noun_chunks as noun_chunks_it  #       # # # #\n",
    "from spacy.lang.ja.syntax_iterators import noun_chunks as noun_chunks_ja  #     #     #\n",
    "from spacy.lang.nb.syntax_iterators import noun_chunks as noun_chunks_nb  # # #   #\n",
    "from spacy.lang.nl.syntax_iterators import noun_chunks as noun_chunks_nl  #       # # # #\n",
    "from spacy.lang.pt.syntax_iterators import noun_chunks as noun_chunks_pt  #       # # # #\n",
    "from spacy.lang.sv.syntax_iterators import noun_chunks as noun_chunks_sv  #   #   #\n",
    "from spacy.lang.tr.syntax_iterators import noun_chunks as noun_chunks_tr  #     # # #   #\n",
    "from ttc.language.russian.extensions.syntax_iterators import (  #         #       #\n",
    "    noun_chunks as noun_chunks_ru\n",
    ")"
   ]
  },
  {
   "cell_type": "code",
   "execution_count": 12,
   "outputs": [],
   "source": [
    "ncfs = [\n",
    "    (\"ru\", noun_chunks_ru),\n",
    "    (\"ca\", noun_chunks_ca),\n",
    "    (\"da\", noun_chunks_da),\n",
    "    (\"de\", noun_chunks_de),\n",
    "    (\"el\", noun_chunks_el),\n",
    "    (\"en\", noun_chunks_en),\n",
    "    (\"es\", noun_chunks_es),\n",
    "    (\"fa\", noun_chunks_fa),\n",
    "    (\"fi\", noun_chunks_fi),\n",
    "    (\"fr\", noun_chunks_fr),\n",
    "    (\"id\", noun_chunks_id),\n",
    "    (\"it\", noun_chunks_it),\n",
    "    (\"ja\", noun_chunks_ja),\n",
    "    (\"nb\", noun_chunks_nb),\n",
    "    (\"nl\", noun_chunks_nl),\n",
    "    (\"pt\", noun_chunks_pt),\n",
    "    (\"sv\", noun_chunks_sv),\n",
    "    (\"tr\", noun_chunks_tr),\n",
    "]"
   ],
   "metadata": {
    "collapsed": false,
    "pycharm": {
     "name": "#%%\n"
    }
   }
  },
  {
   "cell_type": "code",
   "execution_count": 13,
   "outputs": [],
   "source": [
    "def p(text):\n",
    "    FMT = \"{:<30}\"\n",
    "    print(text)\n",
    "    for (i, (name, func)) in enumerate(ncfs):\n",
    "        nlp.vocab.get_noun_chunks = func\n",
    "        doc = nlp(text)\n",
    "        ncs = [str(nc) for nc in doc.noun_chunks]\n",
    "        format_row = (FMT * (len(ncs) - 1)) + \"{}\"\n",
    "        print(\"{:>2}\".format(i + 1),\n",
    "              \"{:>2}\".format(name),\n",
    "              format_row.format(*ncs))\n",
    "    print()"
   ],
   "metadata": {
    "collapsed": false,
    "pycharm": {
     "name": "#%%\n"
    }
   }
  },
  {
   "cell_type": "code",
   "execution_count": 14,
   "outputs": [
    {
     "name": "stdout",
     "output_type": "stream",
     "text": [
      "Один из них, худощавый, с подвижным лицом, приблизился к Гусеву и быстро проговорил.\n",
      " 1 ru Один из них, худощавый        с подвижным лицом             к Гусеву\n",
      "\n",
      "Не получив ответа, Гриша жадно макает свою кудрявую голову в пиво, потом нагибается к Михайле, хлопает его по колену и хрипло говорит.\n",
      " 1 ru ответа                        Гриша                         свою кудрявую голову          в пиво                        к Михайле                     его                           по колену                     хрипло\n",
      "\n",
      "Беги, парнишка, домой и передай мой привет своим близким!\n",
      " 1 ru парнишка                      мой привет                    своим близким\n",
      "\n",
      "Поведай, книга, мне тайны природы.\n",
      " 1 ru книга                         мне                           тайны природы\n",
      "\n",
      "Засветись, о день счастливый! Разгони густой туман.\n",
      " 1 ru о день                        Разгони                       густой туман\n",
      "\n",
      "Тебе, Казбек, о страж Востока, принес я, странник, свой поклон.\n",
      " 1 ru Тебе, Казбек                  о страж Востока               я, странник                   свой поклон\n",
      "\n",
      "Забудь, товарищ мой любезный, раздор смешной и бесполезный.\n",
      " 1 ru товарищ мой любезный          раздор смешной\n",
      "\n",
      "Здравствуйте, лёгкие звезды пушистого первого снега!\n",
      " 1 ru лёгкие звезды пушистого первого снега\n",
      "\n",
      "Ты, царевич, мой спаситель, мой могучий избавитель!\n",
      " 1 ru Ты, царевич                   мой спаситель                 мой могучий избавитель\n",
      "\n"
     ]
    }
   ],
   "source": [
    "p(\"Один из них, худощавый, с подвижным лицом, приблизился к Гусеву и быстро проговорил.\")\n",
    "p(\"Не получив ответа, Гриша жадно макает свою кудрявую голову в пиво, потом нагибается к Михайле, хлопает его по колену и хрипло говорит.\")\n",
    "# парнишка, мой привет, своим близким\n",
    "p(\"Беги, парнишка, домой и передай мой привет своим близким!\")\n",
    "# книга, мне, тайны, природы\n",
    "p(\"Поведай, книга, мне тайны природы.\")\n",
    "# о день счастливый, густой туман\n",
    "p(\"Засветись, о день счастливый! Разгони густой туман.\")\n",
    "# Казбек, о страж Востока,   я, странник,   свой поклон\n",
    "p(\"Тебе, Казбек, о страж Востока, принес я, странник, свой поклон.\")\n",
    "# товарищ мой любезный,   раздор смешной и бесполезный\n",
    "p(\"Забудь, товарищ мой любезный, раздор смешной и бесполезный.\")\n",
    "# лёгкие звезды,   пушистого первого снега\n",
    "p(\"Здравствуйте, лёгкие звезды пушистого первого снега!\")\n",
    "# умная голова\n",
    "# p(\"Отколе, умная, бредёшь ты, голова?\")\n",
    "# князь ты мой прекрасный\n",
    "# p(\"Здравствуй, князь ты мой прекрасный!\")\n",
    "# Ты, царевич, мой спаситель, мой могучий избавитель\n",
    "p(\"Ты, царевич, мой спаситель, мой могучий избавитель!\")"
   ],
   "metadata": {
    "collapsed": false,
    "pycharm": {
     "name": "#%%\n"
    }
   }
  },
  {
   "cell_type": "code",
   "execution_count": 19,
   "outputs": [
    {
     "data": {
      "text/plain": "<IPython.core.display.HTML object>",
      "text/html": "<span class=\"tex2jax_ignore\"><svg xmlns=\"http://www.w3.org/2000/svg\" xmlns:xlink=\"http://www.w3.org/1999/xlink\" xml:lang=\"ru\" id=\"eff8d1f52f7e497e944332202a7178c8-0\" class=\"displacy\" width=\"925\" height=\"312.0\" direction=\"ltr\" style=\"max-width: none; height: 312.0px; color: #000000; background: #ffffff; font-family: Arial; direction: ltr\">\n<text class=\"displacy-token\" fill=\"currentColor\" text-anchor=\"middle\" y=\"222.0\">\n    <tspan class=\"displacy-word\" fill=\"currentColor\" x=\"50\">Один</tspan>\n    <tspan class=\"displacy-tag\" dy=\"2em\" fill=\"currentColor\" x=\"50\">NUM</tspan>\n</text>\n\n<text class=\"displacy-token\" fill=\"currentColor\" text-anchor=\"middle\" y=\"222.0\">\n    <tspan class=\"displacy-word\" fill=\"currentColor\" x=\"225\">Сафронов</tspan>\n    <tspan class=\"displacy-tag\" dy=\"2em\" fill=\"currentColor\" x=\"225\">PROPN</tspan>\n</text>\n\n<text class=\"displacy-token\" fill=\"currentColor\" text-anchor=\"middle\" y=\"222.0\">\n    <tspan class=\"displacy-word\" fill=\"currentColor\" x=\"400\">остался</tspan>\n    <tspan class=\"displacy-tag\" dy=\"2em\" fill=\"currentColor\" x=\"400\">VERB</tspan>\n</text>\n\n<text class=\"displacy-token\" fill=\"currentColor\" text-anchor=\"middle\" y=\"222.0\">\n    <tspan class=\"displacy-word\" fill=\"currentColor\" x=\"575\">без</tspan>\n    <tspan class=\"displacy-tag\" dy=\"2em\" fill=\"currentColor\" x=\"575\">ADP</tspan>\n</text>\n\n<text class=\"displacy-token\" fill=\"currentColor\" text-anchor=\"middle\" y=\"222.0\">\n    <tspan class=\"displacy-word\" fill=\"currentColor\" x=\"750\">сна.</tspan>\n    <tspan class=\"displacy-tag\" dy=\"2em\" fill=\"currentColor\" x=\"750\">NOUN</tspan>\n</text>\n\n<g class=\"displacy-arrow\">\n    <path class=\"displacy-arc\" id=\"arrow-eff8d1f52f7e497e944332202a7178c8-0-0\" stroke-width=\"2px\" d=\"M70,177.0 C70,89.5 220.0,89.5 220.0,177.0\" fill=\"none\" stroke=\"currentColor\"/>\n    <text dy=\"1.25em\" style=\"font-size: 0.8em; letter-spacing: 1px\">\n        <textPath xlink:href=\"#arrow-eff8d1f52f7e497e944332202a7178c8-0-0\" class=\"displacy-label\" startOffset=\"50%\" side=\"left\" fill=\"currentColor\" text-anchor=\"middle\">nummod</textPath>\n    </text>\n    <path class=\"displacy-arrowhead\" d=\"M70,179.0 L62,167.0 78,167.0\" fill=\"currentColor\"/>\n</g>\n\n<g class=\"displacy-arrow\">\n    <path class=\"displacy-arc\" id=\"arrow-eff8d1f52f7e497e944332202a7178c8-0-1\" stroke-width=\"2px\" d=\"M245,177.0 C245,89.5 395.0,89.5 395.0,177.0\" fill=\"none\" stroke=\"currentColor\"/>\n    <text dy=\"1.25em\" style=\"font-size: 0.8em; letter-spacing: 1px\">\n        <textPath xlink:href=\"#arrow-eff8d1f52f7e497e944332202a7178c8-0-1\" class=\"displacy-label\" startOffset=\"50%\" side=\"left\" fill=\"currentColor\" text-anchor=\"middle\">nsubj</textPath>\n    </text>\n    <path class=\"displacy-arrowhead\" d=\"M245,179.0 L237,167.0 253,167.0\" fill=\"currentColor\"/>\n</g>\n\n<g class=\"displacy-arrow\">\n    <path class=\"displacy-arc\" id=\"arrow-eff8d1f52f7e497e944332202a7178c8-0-2\" stroke-width=\"2px\" d=\"M595,177.0 C595,89.5 745.0,89.5 745.0,177.0\" fill=\"none\" stroke=\"currentColor\"/>\n    <text dy=\"1.25em\" style=\"font-size: 0.8em; letter-spacing: 1px\">\n        <textPath xlink:href=\"#arrow-eff8d1f52f7e497e944332202a7178c8-0-2\" class=\"displacy-label\" startOffset=\"50%\" side=\"left\" fill=\"currentColor\" text-anchor=\"middle\">case</textPath>\n    </text>\n    <path class=\"displacy-arrowhead\" d=\"M595,179.0 L587,167.0 603,167.0\" fill=\"currentColor\"/>\n</g>\n\n<g class=\"displacy-arrow\">\n    <path class=\"displacy-arc\" id=\"arrow-eff8d1f52f7e497e944332202a7178c8-0-3\" stroke-width=\"2px\" d=\"M420,177.0 C420,2.0 750.0,2.0 750.0,177.0\" fill=\"none\" stroke=\"currentColor\"/>\n    <text dy=\"1.25em\" style=\"font-size: 0.8em; letter-spacing: 1px\">\n        <textPath xlink:href=\"#arrow-eff8d1f52f7e497e944332202a7178c8-0-3\" class=\"displacy-label\" startOffset=\"50%\" side=\"left\" fill=\"currentColor\" text-anchor=\"middle\">obl</textPath>\n    </text>\n    <path class=\"displacy-arrowhead\" d=\"M750.0,179.0 L758.0,167.0 742.0,167.0\" fill=\"currentColor\"/>\n</g>\n</svg></span>"
     },
     "metadata": {},
     "output_type": "display_data"
    }
   ],
   "source": [
    "doc = nlp(\"Один Сафронов остался без сна.\")\n",
    "displacy.render(doc, style=\"dep\")"
   ],
   "metadata": {
    "collapsed": false,
    "pycharm": {
     "name": "#%%\n"
    }
   }
  }
 ],
 "metadata": {
  "kernelspec": {
   "display_name": "Python 3 (ipykernel)",
   "language": "python",
   "name": "python3"
  },
  "language_info": {
   "codemirror_mode": {
    "name": "ipython",
    "version": 3
   },
   "file_extension": ".py",
   "mimetype": "text/x-python",
   "name": "python",
   "nbconvert_exporter": "python",
   "pygments_lexer": "ipython3",
   "version": "3.8.10"
  }
 },
 "nbformat": 4,
 "nbformat_minor": 1
}