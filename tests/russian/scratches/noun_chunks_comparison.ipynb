{
 "cells": [
  {
   "cell_type": "code",
   "execution_count": 1,
   "metadata": {
    "pycharm": {
     "name": "#%%\n"
    },
    "scrolled": false
   },
   "outputs": [],
   "source": [
    "from typing import Iterator, Iterable, Callable\n",
    "\n",
    "import spacy\n",
    "from spacy import Errors\n",
    "from spacy import displacy\n",
    "from spacy.matcher import DependencyMatcher\n",
    "from spacy.parts_of_speech import *\n",
    "from spacy.tokens import Doc\n",
    "from spacy.tokens import Span\n",
    "from spacy.tokens import Token\n",
    "\n",
    "from ttc.language.russian.constants import SPEAKING_VERBS"
   ]
  },
  {
   "cell_type": "code",
   "execution_count": 2,
   "metadata": {
    "pycharm": {
     "name": "#%%\n"
    },
    "scrolled": true
   },
   "outputs": [],
   "source": [
    "import ttc.language.russian.pipelines as russian_pipelines\n",
    "nlp = spacy.load(\"ru_core_news_sm\")\n",
    "russian_pipelines.register_for(nlp)\n",
    "nlp_md = spacy.load(\"ru_core_news_md\")\n",
    "russian_pipelines.register_for(nlp_md)\n",
    "# nlp_lg = spacy.load(\"ru_core_news_lg\")\n",
    "# russian_pipelines.register_for(nlp_lg)"
   ]
  },
  {
   "cell_type": "code",
   "execution_count": 3,
   "metadata": {
    "pycharm": {
     "name": "#%%\n"
    },
    "scrolled": false
   },
   "outputs": [],
   "source": [
    "from spacy.lang.ca.syntax_iterators import noun_chunks as noun_chunks_ca  # #\n",
    "from spacy.lang.da.syntax_iterators import noun_chunks as noun_chunks_da  # # # # # # # #\n",
    "from spacy.lang.de.syntax_iterators import noun_chunks as noun_chunks_de  #\n",
    "from spacy.lang.el.syntax_iterators import noun_chunks as noun_chunks_el  # # #   # #   #\n",
    "from spacy.lang.en.syntax_iterators import noun_chunks as noun_chunks_en  #         #   #\n",
    "from spacy.lang.es.syntax_iterators import noun_chunks as noun_chunks_es  #         # # #\n",
    "from spacy.lang.fa.syntax_iterators import noun_chunks as noun_chunks_fa  #         #   #\n",
    "from spacy.lang.fi.syntax_iterators import noun_chunks as noun_chunks_fi  #     # #     #\n",
    "from spacy.lang.fr.syntax_iterators import noun_chunks as noun_chunks_fr  #       # # # #\n",
    "from spacy.lang.id.syntax_iterators import noun_chunks as noun_chunks_id  #   #   #   #\n",
    "from spacy.lang.it.syntax_iterators import noun_chunks as noun_chunks_it  #       # # # #\n",
    "from spacy.lang.ja.syntax_iterators import noun_chunks as noun_chunks_ja  #     #     #\n",
    "from spacy.lang.nb.syntax_iterators import noun_chunks as noun_chunks_nb  # # #   #\n",
    "from spacy.lang.nl.syntax_iterators import noun_chunks as noun_chunks_nl  #       # # # #\n",
    "from spacy.lang.pt.syntax_iterators import noun_chunks as noun_chunks_pt  #       # # # #\n",
    "from spacy.lang.sv.syntax_iterators import noun_chunks as noun_chunks_sv  #   #   #\n",
    "from spacy.lang.tr.syntax_iterators import noun_chunks as noun_chunks_tr  #     # # #   #\n",
    "from ttc.language.russian.extensions.syntax_iterators import (  #         #       #\n",
    "    noun_chunks as noun_chunks_ru\n",
    ")"
   ]
  },
  {
   "cell_type": "code",
   "execution_count": 4,
   "outputs": [],
   "source": [
    "ncfs = [\n",
    "    (\"ru\", noun_chunks_ru),\n",
    "    (\"ca\", noun_chunks_ca),\n",
    "    (\"da\", noun_chunks_da),\n",
    "    (\"de\", noun_chunks_de),\n",
    "    (\"el\", noun_chunks_el),\n",
    "    (\"en\", noun_chunks_en),\n",
    "    (\"es\", noun_chunks_es),\n",
    "    (\"fa\", noun_chunks_fa),\n",
    "    (\"fi\", noun_chunks_fi),\n",
    "    (\"fr\", noun_chunks_fr),\n",
    "    (\"id\", noun_chunks_id),\n",
    "    (\"it\", noun_chunks_it),\n",
    "    (\"ja\", noun_chunks_ja),\n",
    "    (\"nb\", noun_chunks_nb),\n",
    "    (\"nl\", noun_chunks_nl),\n",
    "    (\"pt\", noun_chunks_pt),\n",
    "    (\"sv\", noun_chunks_sv),\n",
    "    (\"tr\", noun_chunks_tr),\n",
    "]"
   ],
   "metadata": {
    "collapsed": false,
    "pycharm": {
     "name": "#%%\n"
    }
   }
  },
  {
   "cell_type": "code",
   "execution_count": 5,
   "outputs": [],
   "source": [
    "def p(text):\n",
    "    FMT = \"{:<30}\"\n",
    "    print(text)\n",
    "    for (i, (name, func)) in enumerate(ncfs):\n",
    "        nlp.vocab.get_noun_chunks = func\n",
    "        doc = nlp(text)\n",
    "        ncs = [str(nc) for nc in doc.noun_chunks]\n",
    "        format_row = (FMT * (len(ncs) - 1)) + (\"{}\" if len(ncs) > 0 else \"\")\n",
    "        print(\"{:>2}\".format(i + 1),\n",
    "              \"{:>2}\".format(name),\n",
    "              format_row.format(*ncs))\n",
    "    print()"
   ],
   "metadata": {
    "collapsed": false,
    "pycharm": {
     "name": "#%%\n"
    }
   }
  },
  {
   "cell_type": "code",
   "execution_count": 6,
   "outputs": [
    {
     "name": "stdout",
     "output_type": "stream",
     "text": [
      "Один из них, худощавый, с подвижным лицом, приблизился к Гусеву и быстро проговорил.\n",
      " 1 ru Один из них, худощавый        с подвижным лицом             к Гусеву\n",
      " 2 ca с подвижным лицом             Гусеву\n",
      " 3 da них                           подвижным лицом               Гусеву\n",
      " 4 de \n",
      " 5 el , с подвижным лицом           к Гусеву\n",
      " 6 en \n",
      " 7 es них                           , с подвижным лицом           Гусеву\n",
      " 8 fa \n",
      " 9 fi подвижным лицом               Гусеву\n",
      "10 fr них                           , с подвижным лицом           Гусеву\n",
      "11 id из них\n",
      "12 it них                           , с подвижным лицом           Гусеву\n",
      "13 ja из них                        , с подвижным лицом\n",
      "14 nb из них\n",
      "15 nl подвижным лицом\n",
      "16 pt них                           , с подвижным лицом           Гусеву\n",
      "17 sv из них\n",
      "18 tr к Гусеву                      , с подвижным лицом\n",
      "\n",
      "Не получив ответа, Гриша жадно макает свою кудрявую голову в пиво, потом нагибается к Михайле, хлопает его по колену и хрипло говорит.\n",
      " 1 ru ответа                        Гриша                         свою кудрявую голову в пиво   к Михайле                     его по колену                 хрипло\n",
      " 2 ca ответа                        Гриша                         свою кудрявую голову          пиво                          Михайле                       колену                        и хрипло\n",
      " 3 da ответа                        Гриша                         свою кудрявую голову          пиво                          Михайле                       его                           колену                        хрипло\n",
      " 4 de \n",
      " 5 el ответа                        Гриша                         свою кудрявую голову          в пиво                        к Михайле                     его                           по колену                     и хрипло\n",
      " 6 en Гриша\n",
      " 7 es ответа                        Гриша                         свою кудрявую голову          пиво                          Михайле                       его                           колену                        и хрипло\n",
      " 8 fa Гриша\n",
      " 9 fi ответа                        Гриша                         кудрявую голову               пиво                          Михайле                       колену                        хрипло\n",
      "10 fr ответа                        Гриша                         свою кудрявую голову          пиво                          Михайле                       его                           колену                        и хрипло\n",
      "11 id ответа                        Гриша                         свою кудрявую голову          его                           и хрипло\n",
      "12 it ответа                        Гриша                         свою кудрявую голову          пиво                          Михайле                       его                           колену                        и хрипло\n",
      "13 ja Гриша                         к Михайле                     по колену\n",
      "14 nb ответа                        Гриша                         свою кудрявую голову          его                           и хрипло\n",
      "15 nl ответа                        свою кудрявую голову          пиво                          колену                        хрипло\n",
      "16 pt ответа                        Гриша                         свою кудрявую голову          пиво                          Михайле                       его                           колену                        и хрипло\n",
      "17 sv ответа                        Гриша                         свою кудрявую голову          его                           и хрипло\n",
      "18 tr и хрипло                      по колену                     его                           к Михайле                     в пиво                        свою кудрявую голову          Гриша                         ответа\n",
      "\n",
      "Беги, парнишка, домой и передай мой привет своим близким!\n",
      " 1 ru парнишка                      мой привет                    своим близким\n",
      " 2 ca мой привет                    своим близким\n",
      " 3 da парнишка                      мой привет                    своим близким\n",
      " 4 de \n",
      " 5 el , парнишка                    мой привет                    своим близким\n",
      " 6 en , парнишка\n",
      " 7 es , парнишка                    мой привет\n",
      " 8 fa , парнишка\n",
      " 9 fi привет\n",
      "10 fr , парнишка                    мой привет\n",
      "11 id , парнишка                    мой привет                    своим близким\n",
      "12 it , парнишка                    мой привет\n",
      "13 ja \n",
      "14 nb , парнишка                    мой привет                    своим близким\n",
      "15 nl парнишка                      мой привет                    своим близким\n",
      "16 pt , парнишка                    мой привет\n",
      "17 sv , парнишка                    мой привет                    своим близким\n",
      "18 tr своим близким                 мой привет                    парнишка\n",
      "\n",
      "Поведай, книга, мне тайны природы.\n",
      " 1 ru книга                         мне                           тайны природы\n",
      " 2 ca природы\n",
      " 3 da книга                         мне                           тайны                         природы\n",
      " 4 de \n",
      " 5 el , книга                       , мне\n",
      " 6 en , книга                       , мне тайны\n",
      " 7 es , книга                       , мне тайны                   природы\n",
      " 8 fa , книга                       , мне тайны\n",
      " 9 fi \n",
      "10 fr , книга                       , мне тайны                   природы\n",
      "11 id , книга                       , мне                         природы\n",
      "12 it , книга                       , мне тайны                   природы\n",
      "13 ja природы\n",
      "14 nb , книга                       , мне                         природы\n",
      "15 nl книга                         тайны                         природы\n",
      "16 pt , книга                       , мне тайны                   природы\n",
      "17 sv , книга                       , мне                         природы\n",
      "18 tr мне тайны                     книга\n",
      "\n",
      "Засветись, о день счастливый! Разгони густой туман.\n",
      " 1 ru о день                        Разгони                       густой туман\n",
      " 2 ca о день                        Разгони\n",
      " 3 da день                          Разгони                       густой туман\n",
      " 4 de Разгони густой туман\n",
      " 5 el , о день                      Разгони\n",
      " 6 en Разгони\n",
      " 7 es , о день                      Разгони\n",
      " 8 fa Разгони\n",
      " 9 fi день                          Разгони                       густой туман\n",
      "10 fr , о день                      Разгони\n",
      "11 id Разгони\n",
      "12 it , о день                      Разгони\n",
      "13 ja , о день                      Разгони                       густой туман\n",
      "14 nb Разгони\n",
      "15 nl день                          Разгони\n",
      "16 pt , о день                      Разгони\n",
      "17 sv Разгони\n",
      "18 tr Разгони густой туман          , о день\n",
      "\n",
      "Тебе, Казбек, о страж Востока, принес я, странник, свой поклон.\n",
      " 1 ru Тебе, Казбек                  о страж Востока               я, странник                   свой поклон\n",
      " 2 ca Казбек                        Востока                       странник\n",
      " 3 da Тебе                          Казбек                        страж                         Востока                       я                             странник                      свой поклон\n",
      " 4 de \n",
      " 5 el Тебе                          , Казбек                      , о страж                     я                             , странник                    , свой поклон\n",
      " 6 en , Казбек                      я                             , странник                    , свой поклон\n",
      " 7 es , Казбек                      Востока                       я                             , странник                    , свой поклон\n",
      " 8 fa , Казбек                      я                             , странник                    , свой поклон\n",
      " 9 fi Казбек                        страж Востока                 странник                      поклон\n",
      "10 fr , Казбек                      Востока                       я                             , странник                    , свой поклон\n",
      "11 id Тебе, Казбек, о страж Востока,я, странник, свой поклон\n",
      "12 it , Казбек                      Востока                       я                             , странник                    , свой поклон\n",
      "13 ja , Казбек                      Востока                       я\n",
      "14 nb Тебе, Казбек, о страж Востока,я, странник, свой поклон\n",
      "15 nl страж                         я                             странник                      свой поклон\n",
      "16 pt , Казбек                      Востока                       я                             , странник                    , свой поклон\n",
      "17 sv Тебе, Казбек, о страж Востока,я, странник, свой поклон\n",
      "18 tr свой поклон                   , странник                    я                             о страж                       , Казбек                      Тебе\n",
      "\n",
      "Забудь, товарищ мой любезный, раздор смешной и бесполезный.\n",
      " 1 ru товарищ мой любезный          раздор смешной\n",
      " 2 ca товарищ мой любезный\n",
      " 3 da товарищ мой любезный          раздор смешной\n",
      " 4 de \n",
      " 5 el , товарищ                     , раздор\n",
      " 6 en , товарищ                     , раздор\n",
      " 7 es , товарищ                     , раздор\n",
      " 8 fa , товарищ                     , раздор\n",
      " 9 fi товарищ мой любезный\n",
      "10 fr , товарищ мой                 , раздор\n",
      "11 id , товарищ мой любезный        , раздор смешной\n",
      "12 it , товарищ мой                 , раздор\n",
      "13 ja , товарищ\n",
      "14 nb , товарищ мой любезный        , раздор смешной\n",
      "15 nl товарищ мой любезный          раздор смешной\n",
      "16 pt , товарищ мой                 , раздор\n",
      "17 sv , товарищ мой любезный        , раздор смешной\n",
      "18 tr раздор                        , товарищ\n",
      "\n",
      "Здравствуйте, лёгкие звезды пушистого первого снега!\n",
      " 1 ru лёгкие звезды пушистого первого снега\n",
      " 2 ca лёгкие звезды пушистого первого снега\n",
      " 3 da лёгкие звезды                 пушистого первого снега\n",
      " 4 de \n",
      " 5 el , лёгкие звезды пушистого первого снега\n",
      " 6 en , лёгкие звезды\n",
      " 7 es , лёгкие звезды               пушистого первого снега\n",
      " 8 fa , лёгкие звезды\n",
      " 9 fi лёгкие звезды пушистого первого снега\n",
      "10 fr , лёгкие звезды               пушистого первого снега\n",
      "11 id , лёгкие звезды пушистого первого снега\n",
      "12 it , лёгкие звезды               пушистого первого снега\n",
      "13 ja , лёгкие звезды\n",
      "14 nb , лёгкие звезды пушистого первого снега\n",
      "15 nl лёгкие звезды                 пушистого первого снега\n",
      "16 pt , лёгкие звезды               пушистого первого снега\n",
      "17 sv , лёгкие звезды пушистого первого снега\n",
      "18 tr , лёгкие звезды\n",
      "\n",
      "Ты, царевич, мой спаситель, мой могучий избавитель!\n",
      " 1 ru Ты, царевич                   мой спаситель                 мой могучий избавитель\n",
      " 2 ca царевич\n",
      " 3 da Ты                            царевич                       мой спаситель                 мой могучий избавитель\n",
      " 4 de Ты, царевич, мой спаситель, мой могучий избавитель\n",
      " 5 el Ты                            , царевич                     , мой спаситель\n",
      " 6 en Ты                            , царевич                     , мой спаситель\n",
      " 7 es Ты                            , царевич                     , мой спаситель\n",
      " 8 fa Ты                            , царевич                     , мой спаситель\n",
      " 9 fi царевич                       спаситель                     могучий избавитель\n",
      "10 fr Ты                            , царевич                     , мой спаситель\n",
      "11 id Ты, царевич, мой спаситель\n",
      "12 it Ты                            , царевич                     , мой спаситель\n",
      "13 ja Ты                            , мой могучий избавитель\n",
      "14 nb Ты, царевич, мой спаситель\n",
      "15 nl Ты                            мой спаситель\n",
      "16 pt Ты                            , царевич                     , мой спаситель\n",
      "17 sv Ты, царевич, мой спаситель\n",
      "18 tr Ты, царевич, мой спаситель, мой могучий избавитель\n",
      "\n"
     ]
    }
   ],
   "source": [
    "p(\"Один из них, худощавый, с подвижным лицом, приблизился к Гусеву и быстро проговорил.\")\n",
    "p(\"Не получив ответа, Гриша жадно макает свою кудрявую голову в пиво, потом нагибается к Михайле, хлопает его по колену и хрипло говорит.\")\n",
    "# парнишка, мой привет, своим близким\n",
    "p(\"Беги, парнишка, домой и передай мой привет своим близким!\")\n",
    "# книга, мне, тайны, природы\n",
    "p(\"Поведай, книга, мне тайны природы.\")\n",
    "# о день счастливый, густой туман\n",
    "p(\"Засветись, о день счастливый! Разгони густой туман.\")\n",
    "# Казбек, о страж Востока,   я, странник,   свой поклон\n",
    "p(\"Тебе, Казбек, о страж Востока, принес я, странник, свой поклон.\")\n",
    "# товарищ мой любезный,   раздор смешной и бесполезный\n",
    "p(\"Забудь, товарищ мой любезный, раздор смешной и бесполезный.\")\n",
    "# лёгкие звезды,   пушистого первого снега\n",
    "p(\"Здравствуйте, лёгкие звезды пушистого первого снега!\")\n",
    "# умная голова\n",
    "# p(\"Отколе, умная, бредёшь ты, голова?\")\n",
    "# князь ты мой прекрасный\n",
    "# p(\"Здравствуй, князь ты мой прекрасный!\")\n",
    "# Ты, царевич, мой спаситель, мой могучий избавитель\n",
    "p(\"Ты, царевич, мой спаситель, мой могучий избавитель!\")"
   ],
   "metadata": {
    "collapsed": false,
    "pycharm": {
     "name": "#%%\n"
    }
   }
  },
  {
   "cell_type": "code",
   "execution_count": 8,
   "outputs": [
    {
     "data": {
      "text/plain": "<IPython.core.display.HTML object>",
      "text/html": "<span class=\"tex2jax_ignore\"><svg xmlns=\"http://www.w3.org/2000/svg\" xmlns:xlink=\"http://www.w3.org/1999/xlink\" xml:lang=\"ru\" id=\"bbce56c9e76d45fca68ea77253be8d1e-0\" class=\"displacy\" width=\"4600\" height=\"399.5\" direction=\"ltr\" style=\"max-width: none; height: 399.5px; color: #000000; background: #ffffff; font-family: Arial; direction: ltr\">\n<text class=\"displacy-token\" fill=\"currentColor\" text-anchor=\"middle\" y=\"309.5\">\n    <tspan class=\"displacy-word\" fill=\"currentColor\" x=\"50\">\n–</tspan>\n    <tspan class=\"displacy-tag\" dy=\"2em\" fill=\"currentColor\" x=\"50\">SPACE</tspan>\n</text>\n\n<text class=\"displacy-token\" fill=\"currentColor\" text-anchor=\"middle\" y=\"309.5\">\n    <tspan class=\"displacy-word\" fill=\"currentColor\" x=\"225\">Эй,</tspan>\n    <tspan class=\"displacy-tag\" dy=\"2em\" fill=\"currentColor\" x=\"225\">PROPN</tspan>\n</text>\n\n<text class=\"displacy-token\" fill=\"currentColor\" text-anchor=\"middle\" y=\"309.5\">\n    <tspan class=\"displacy-word\" fill=\"currentColor\" x=\"400\">Газ, –</tspan>\n    <tspan class=\"displacy-tag\" dy=\"2em\" fill=\"currentColor\" x=\"400\">PROPN</tspan>\n</text>\n\n<text class=\"displacy-token\" fill=\"currentColor\" text-anchor=\"middle\" y=\"309.5\">\n    <tspan class=\"displacy-word\" fill=\"currentColor\" x=\"575\">позвал</tspan>\n    <tspan class=\"displacy-tag\" dy=\"2em\" fill=\"currentColor\" x=\"575\">VERB</tspan>\n</text>\n\n<text class=\"displacy-token\" fill=\"currentColor\" text-anchor=\"middle\" y=\"309.5\">\n    <tspan class=\"displacy-word\" fill=\"currentColor\" x=\"750\">Моаш,</tspan>\n    <tspan class=\"displacy-tag\" dy=\"2em\" fill=\"currentColor\" x=\"750\">PROPN</tspan>\n</text>\n\n<text class=\"displacy-token\" fill=\"currentColor\" text-anchor=\"middle\" y=\"309.5\">\n    <tspan class=\"displacy-word\" fill=\"currentColor\" x=\"925\">приложив</tspan>\n    <tspan class=\"displacy-tag\" dy=\"2em\" fill=\"currentColor\" x=\"925\">VERB</tspan>\n</text>\n\n<text class=\"displacy-token\" fill=\"currentColor\" text-anchor=\"middle\" y=\"309.5\">\n    <tspan class=\"displacy-word\" fill=\"currentColor\" x=\"1100\">ладони</tspan>\n    <tspan class=\"displacy-tag\" dy=\"2em\" fill=\"currentColor\" x=\"1100\">NOUN</tspan>\n</text>\n\n<text class=\"displacy-token\" fill=\"currentColor\" text-anchor=\"middle\" y=\"309.5\">\n    <tspan class=\"displacy-word\" fill=\"currentColor\" x=\"1275\">рупором</tspan>\n    <tspan class=\"displacy-tag\" dy=\"2em\" fill=\"currentColor\" x=\"1275\">NOUN</tspan>\n</text>\n\n<text class=\"displacy-token\" fill=\"currentColor\" text-anchor=\"middle\" y=\"309.5\">\n    <tspan class=\"displacy-word\" fill=\"currentColor\" x=\"1450\">ко</tspan>\n    <tspan class=\"displacy-tag\" dy=\"2em\" fill=\"currentColor\" x=\"1450\">ADP</tspan>\n</text>\n\n<text class=\"displacy-token\" fill=\"currentColor\" text-anchor=\"middle\" y=\"309.5\">\n    <tspan class=\"displacy-word\" fill=\"currentColor\" x=\"1625\">рту.</tspan>\n    <tspan class=\"displacy-tag\" dy=\"2em\" fill=\"currentColor\" x=\"1625\">NOUN</tspan>\n</text>\n\n<text class=\"displacy-token\" fill=\"currentColor\" text-anchor=\"middle\" y=\"309.5\">\n    <tspan class=\"displacy-word\" fill=\"currentColor\" x=\"1800\">\n</tspan>\n    <tspan class=\"displacy-tag\" dy=\"2em\" fill=\"currentColor\" x=\"1800\">SPACE</tspan>\n</text>\n\n<text class=\"displacy-token\" fill=\"currentColor\" text-anchor=\"middle\" y=\"309.5\">\n    <tspan class=\"displacy-word\" fill=\"currentColor\" x=\"1975\">Одноглазый</tspan>\n    <tspan class=\"displacy-tag\" dy=\"2em\" fill=\"currentColor\" x=\"1975\">NOUN</tspan>\n</text>\n\n<text class=\"displacy-token\" fill=\"currentColor\" text-anchor=\"middle\" y=\"309.5\">\n    <tspan class=\"displacy-word\" fill=\"currentColor\" x=\"2150\">коротышка-</tspan>\n    <tspan class=\"displacy-tag\" dy=\"2em\" fill=\"currentColor\" x=\"2150\">NOUN</tspan>\n</text>\n\n<text class=\"displacy-token\" fill=\"currentColor\" text-anchor=\"middle\" y=\"309.5\">\n    <tspan class=\"displacy-word\" fill=\"currentColor\" x=\"2325\">сержант</tspan>\n    <tspan class=\"displacy-tag\" dy=\"2em\" fill=\"currentColor\" x=\"2325\">NOUN</tspan>\n</text>\n\n<text class=\"displacy-token\" fill=\"currentColor\" text-anchor=\"middle\" y=\"309.5\">\n    <tspan class=\"displacy-word\" fill=\"currentColor\" x=\"2500\">разговаривал</tspan>\n    <tspan class=\"displacy-tag\" dy=\"2em\" fill=\"currentColor\" x=\"2500\">VERB</tspan>\n</text>\n\n<text class=\"displacy-token\" fill=\"currentColor\" text-anchor=\"middle\" y=\"309.5\">\n    <tspan class=\"displacy-word\" fill=\"currentColor\" x=\"2675\">с</tspan>\n    <tspan class=\"displacy-tag\" dy=\"2em\" fill=\"currentColor\" x=\"2675\">ADP</tspan>\n</text>\n\n<text class=\"displacy-token\" fill=\"currentColor\" text-anchor=\"middle\" y=\"309.5\">\n    <tspan class=\"displacy-word\" fill=\"currentColor\" x=\"2850\">солдатами</tspan>\n    <tspan class=\"displacy-tag\" dy=\"2em\" fill=\"currentColor\" x=\"2850\">NOUN</tspan>\n</text>\n\n<text class=\"displacy-token\" fill=\"currentColor\" text-anchor=\"middle\" y=\"309.5\">\n    <tspan class=\"displacy-word\" fill=\"currentColor\" x=\"3025\">неподалеку.</tspan>\n    <tspan class=\"displacy-tag\" dy=\"2em\" fill=\"currentColor\" x=\"3025\">ADV</tspan>\n</text>\n\n<text class=\"displacy-token\" fill=\"currentColor\" text-anchor=\"middle\" y=\"309.5\">\n    <tspan class=\"displacy-word\" fill=\"currentColor\" x=\"3200\">\n–</tspan>\n    <tspan class=\"displacy-tag\" dy=\"2em\" fill=\"currentColor\" x=\"3200\">SPACE</tspan>\n</text>\n\n<text class=\"displacy-token\" fill=\"currentColor\" text-anchor=\"middle\" y=\"309.5\">\n    <tspan class=\"displacy-word\" fill=\"currentColor\" x=\"3375\">Чего</tspan>\n    <tspan class=\"displacy-tag\" dy=\"2em\" fill=\"currentColor\" x=\"3375\">PRON</tspan>\n</text>\n\n<text class=\"displacy-token\" fill=\"currentColor\" text-anchor=\"middle\" y=\"309.5\">\n    <tspan class=\"displacy-word\" fill=\"currentColor\" x=\"3550\">надо? –</tspan>\n    <tspan class=\"displacy-tag\" dy=\"2em\" fill=\"currentColor\" x=\"3550\">ADV</tspan>\n</text>\n\n<text class=\"displacy-token\" fill=\"currentColor\" text-anchor=\"middle\" y=\"309.5\">\n    <tspan class=\"displacy-word\" fill=\"currentColor\" x=\"3725\">Тот</tspan>\n    <tspan class=\"displacy-tag\" dy=\"2em\" fill=\"currentColor\" x=\"3725\">DET</tspan>\n</text>\n\n<text class=\"displacy-token\" fill=\"currentColor\" text-anchor=\"middle\" y=\"309.5\">\n    <tspan class=\"displacy-word\" fill=\"currentColor\" x=\"3900\">скорчил</tspan>\n    <tspan class=\"displacy-tag\" dy=\"2em\" fill=\"currentColor\" x=\"3900\">VERB</tspan>\n</text>\n\n<text class=\"displacy-token\" fill=\"currentColor\" text-anchor=\"middle\" y=\"309.5\">\n    <tspan class=\"displacy-word\" fill=\"currentColor\" x=\"4075\">недовольную</tspan>\n    <tspan class=\"displacy-tag\" dy=\"2em\" fill=\"currentColor\" x=\"4075\">ADJ</tspan>\n</text>\n\n<text class=\"displacy-token\" fill=\"currentColor\" text-anchor=\"middle\" y=\"309.5\">\n    <tspan class=\"displacy-word\" fill=\"currentColor\" x=\"4250\">мину.</tspan>\n    <tspan class=\"displacy-tag\" dy=\"2em\" fill=\"currentColor\" x=\"4250\">NOUN</tspan>\n</text>\n\n<text class=\"displacy-token\" fill=\"currentColor\" text-anchor=\"middle\" y=\"309.5\">\n    <tspan class=\"displacy-word\" fill=\"currentColor\" x=\"4425\">\n</tspan>\n    <tspan class=\"displacy-tag\" dy=\"2em\" fill=\"currentColor\" x=\"4425\">SPACE</tspan>\n</text>\n\n<g class=\"displacy-arrow\">\n    <path class=\"displacy-arc\" id=\"arrow-bbce56c9e76d45fca68ea77253be8d1e-0-0\" stroke-width=\"2px\" d=\"M70,264.5 C70,177.0 215.0,177.0 215.0,264.5\" fill=\"none\" stroke=\"currentColor\"/>\n    <text dy=\"1.25em\" style=\"font-size: 0.8em; letter-spacing: 1px\">\n        <textPath xlink:href=\"#arrow-bbce56c9e76d45fca68ea77253be8d1e-0-0\" class=\"displacy-label\" startOffset=\"50%\" side=\"left\" fill=\"currentColor\" text-anchor=\"middle\">parataxis</textPath>\n    </text>\n    <path class=\"displacy-arrowhead\" d=\"M215.0,266.5 L223.0,254.5 207.0,254.5\" fill=\"currentColor\"/>\n</g>\n\n<g class=\"displacy-arrow\">\n    <path class=\"displacy-arc\" id=\"arrow-bbce56c9e76d45fca68ea77253be8d1e-0-1\" stroke-width=\"2px\" d=\"M245,264.5 C245,177.0 390.0,177.0 390.0,264.5\" fill=\"none\" stroke=\"currentColor\"/>\n    <text dy=\"1.25em\" style=\"font-size: 0.8em; letter-spacing: 1px\">\n        <textPath xlink:href=\"#arrow-bbce56c9e76d45fca68ea77253be8d1e-0-1\" class=\"displacy-label\" startOffset=\"50%\" side=\"left\" fill=\"currentColor\" text-anchor=\"middle\">conj</textPath>\n    </text>\n    <path class=\"displacy-arrowhead\" d=\"M390.0,266.5 L398.0,254.5 382.0,254.5\" fill=\"currentColor\"/>\n</g>\n\n<g class=\"displacy-arrow\">\n    <path class=\"displacy-arc\" id=\"arrow-bbce56c9e76d45fca68ea77253be8d1e-0-2\" stroke-width=\"2px\" d=\"M70,264.5 C70,89.5 570.0,89.5 570.0,264.5\" fill=\"none\" stroke=\"currentColor\"/>\n    <text dy=\"1.25em\" style=\"font-size: 0.8em; letter-spacing: 1px\">\n        <textPath xlink:href=\"#arrow-bbce56c9e76d45fca68ea77253be8d1e-0-2\" class=\"displacy-label\" startOffset=\"50%\" side=\"left\" fill=\"currentColor\" text-anchor=\"middle\">parataxis</textPath>\n    </text>\n    <path class=\"displacy-arrowhead\" d=\"M570.0,266.5 L578.0,254.5 562.0,254.5\" fill=\"currentColor\"/>\n</g>\n\n<g class=\"displacy-arrow\">\n    <path class=\"displacy-arc\" id=\"arrow-bbce56c9e76d45fca68ea77253be8d1e-0-3\" stroke-width=\"2px\" d=\"M595,264.5 C595,177.0 740.0,177.0 740.0,264.5\" fill=\"none\" stroke=\"currentColor\"/>\n    <text dy=\"1.25em\" style=\"font-size: 0.8em; letter-spacing: 1px\">\n        <textPath xlink:href=\"#arrow-bbce56c9e76d45fca68ea77253be8d1e-0-3\" class=\"displacy-label\" startOffset=\"50%\" side=\"left\" fill=\"currentColor\" text-anchor=\"middle\">nsubj</textPath>\n    </text>\n    <path class=\"displacy-arrowhead\" d=\"M740.0,266.5 L748.0,254.5 732.0,254.5\" fill=\"currentColor\"/>\n</g>\n\n<g class=\"displacy-arrow\">\n    <path class=\"displacy-arc\" id=\"arrow-bbce56c9e76d45fca68ea77253be8d1e-0-4\" stroke-width=\"2px\" d=\"M595,264.5 C595,89.5 920.0,89.5 920.0,264.5\" fill=\"none\" stroke=\"currentColor\"/>\n    <text dy=\"1.25em\" style=\"font-size: 0.8em; letter-spacing: 1px\">\n        <textPath xlink:href=\"#arrow-bbce56c9e76d45fca68ea77253be8d1e-0-4\" class=\"displacy-label\" startOffset=\"50%\" side=\"left\" fill=\"currentColor\" text-anchor=\"middle\">advcl</textPath>\n    </text>\n    <path class=\"displacy-arrowhead\" d=\"M920.0,266.5 L928.0,254.5 912.0,254.5\" fill=\"currentColor\"/>\n</g>\n\n<g class=\"displacy-arrow\">\n    <path class=\"displacy-arc\" id=\"arrow-bbce56c9e76d45fca68ea77253be8d1e-0-5\" stroke-width=\"2px\" d=\"M945,264.5 C945,177.0 1090.0,177.0 1090.0,264.5\" fill=\"none\" stroke=\"currentColor\"/>\n    <text dy=\"1.25em\" style=\"font-size: 0.8em; letter-spacing: 1px\">\n        <textPath xlink:href=\"#arrow-bbce56c9e76d45fca68ea77253be8d1e-0-5\" class=\"displacy-label\" startOffset=\"50%\" side=\"left\" fill=\"currentColor\" text-anchor=\"middle\">obj</textPath>\n    </text>\n    <path class=\"displacy-arrowhead\" d=\"M1090.0,266.5 L1098.0,254.5 1082.0,254.5\" fill=\"currentColor\"/>\n</g>\n\n<g class=\"displacy-arrow\">\n    <path class=\"displacy-arc\" id=\"arrow-bbce56c9e76d45fca68ea77253be8d1e-0-6\" stroke-width=\"2px\" d=\"M945,264.5 C945,89.5 1270.0,89.5 1270.0,264.5\" fill=\"none\" stroke=\"currentColor\"/>\n    <text dy=\"1.25em\" style=\"font-size: 0.8em; letter-spacing: 1px\">\n        <textPath xlink:href=\"#arrow-bbce56c9e76d45fca68ea77253be8d1e-0-6\" class=\"displacy-label\" startOffset=\"50%\" side=\"left\" fill=\"currentColor\" text-anchor=\"middle\">xcomp</textPath>\n    </text>\n    <path class=\"displacy-arrowhead\" d=\"M1270.0,266.5 L1278.0,254.5 1262.0,254.5\" fill=\"currentColor\"/>\n</g>\n\n<g class=\"displacy-arrow\">\n    <path class=\"displacy-arc\" id=\"arrow-bbce56c9e76d45fca68ea77253be8d1e-0-7\" stroke-width=\"2px\" d=\"M1470,264.5 C1470,177.0 1615.0,177.0 1615.0,264.5\" fill=\"none\" stroke=\"currentColor\"/>\n    <text dy=\"1.25em\" style=\"font-size: 0.8em; letter-spacing: 1px\">\n        <textPath xlink:href=\"#arrow-bbce56c9e76d45fca68ea77253be8d1e-0-7\" class=\"displacy-label\" startOffset=\"50%\" side=\"left\" fill=\"currentColor\" text-anchor=\"middle\">case</textPath>\n    </text>\n    <path class=\"displacy-arrowhead\" d=\"M1470,266.5 L1462,254.5 1478,254.5\" fill=\"currentColor\"/>\n</g>\n\n<g class=\"displacy-arrow\">\n    <path class=\"displacy-arc\" id=\"arrow-bbce56c9e76d45fca68ea77253be8d1e-0-8\" stroke-width=\"2px\" d=\"M1295,264.5 C1295,89.5 1620.0,89.5 1620.0,264.5\" fill=\"none\" stroke=\"currentColor\"/>\n    <text dy=\"1.25em\" style=\"font-size: 0.8em; letter-spacing: 1px\">\n        <textPath xlink:href=\"#arrow-bbce56c9e76d45fca68ea77253be8d1e-0-8\" class=\"displacy-label\" startOffset=\"50%\" side=\"left\" fill=\"currentColor\" text-anchor=\"middle\">nmod</textPath>\n    </text>\n    <path class=\"displacy-arrowhead\" d=\"M1620.0,266.5 L1628.0,254.5 1612.0,254.5\" fill=\"currentColor\"/>\n</g>\n\n<g class=\"displacy-arrow\">\n    <path class=\"displacy-arc\" id=\"arrow-bbce56c9e76d45fca68ea77253be8d1e-0-9\" stroke-width=\"2px\" d=\"M1820,264.5 C1820,2.0 2500.0,2.0 2500.0,264.5\" fill=\"none\" stroke=\"currentColor\"/>\n    <text dy=\"1.25em\" style=\"font-size: 0.8em; letter-spacing: 1px\">\n        <textPath xlink:href=\"#arrow-bbce56c9e76d45fca68ea77253be8d1e-0-9\" class=\"displacy-label\" startOffset=\"50%\" side=\"left\" fill=\"currentColor\" text-anchor=\"middle\">dep</textPath>\n    </text>\n    <path class=\"displacy-arrowhead\" d=\"M1820,266.5 L1812,254.5 1828,254.5\" fill=\"currentColor\"/>\n</g>\n\n<g class=\"displacy-arrow\">\n    <path class=\"displacy-arc\" id=\"arrow-bbce56c9e76d45fca68ea77253be8d1e-0-10\" stroke-width=\"2px\" d=\"M1820,264.5 C1820,177.0 1965.0,177.0 1965.0,264.5\" fill=\"none\" stroke=\"currentColor\"/>\n    <text dy=\"1.25em\" style=\"font-size: 0.8em; letter-spacing: 1px\">\n        <textPath xlink:href=\"#arrow-bbce56c9e76d45fca68ea77253be8d1e-0-10\" class=\"displacy-label\" startOffset=\"50%\" side=\"left\" fill=\"currentColor\" text-anchor=\"middle\">appos</textPath>\n    </text>\n    <path class=\"displacy-arrowhead\" d=\"M1965.0,266.5 L1973.0,254.5 1957.0,254.5\" fill=\"currentColor\"/>\n</g>\n\n<g class=\"displacy-arrow\">\n    <path class=\"displacy-arc\" id=\"arrow-bbce56c9e76d45fca68ea77253be8d1e-0-11\" stroke-width=\"2px\" d=\"M2170,264.5 C2170,89.5 2495.0,89.5 2495.0,264.5\" fill=\"none\" stroke=\"currentColor\"/>\n    <text dy=\"1.25em\" style=\"font-size: 0.8em; letter-spacing: 1px\">\n        <textPath xlink:href=\"#arrow-bbce56c9e76d45fca68ea77253be8d1e-0-11\" class=\"displacy-label\" startOffset=\"50%\" side=\"left\" fill=\"currentColor\" text-anchor=\"middle\">nsubj</textPath>\n    </text>\n    <path class=\"displacy-arrowhead\" d=\"M2170,266.5 L2162,254.5 2178,254.5\" fill=\"currentColor\"/>\n</g>\n\n<g class=\"displacy-arrow\">\n    <path class=\"displacy-arc\" id=\"arrow-bbce56c9e76d45fca68ea77253be8d1e-0-12\" stroke-width=\"2px\" d=\"M2345,264.5 C2345,177.0 2490.0,177.0 2490.0,264.5\" fill=\"none\" stroke=\"currentColor\"/>\n    <text dy=\"1.25em\" style=\"font-size: 0.8em; letter-spacing: 1px\">\n        <textPath xlink:href=\"#arrow-bbce56c9e76d45fca68ea77253be8d1e-0-12\" class=\"displacy-label\" startOffset=\"50%\" side=\"left\" fill=\"currentColor\" text-anchor=\"middle\">nsubj</textPath>\n    </text>\n    <path class=\"displacy-arrowhead\" d=\"M2345,266.5 L2337,254.5 2353,254.5\" fill=\"currentColor\"/>\n</g>\n\n<g class=\"displacy-arrow\">\n    <path class=\"displacy-arc\" id=\"arrow-bbce56c9e76d45fca68ea77253be8d1e-0-13\" stroke-width=\"2px\" d=\"M2695,264.5 C2695,177.0 2840.0,177.0 2840.0,264.5\" fill=\"none\" stroke=\"currentColor\"/>\n    <text dy=\"1.25em\" style=\"font-size: 0.8em; letter-spacing: 1px\">\n        <textPath xlink:href=\"#arrow-bbce56c9e76d45fca68ea77253be8d1e-0-13\" class=\"displacy-label\" startOffset=\"50%\" side=\"left\" fill=\"currentColor\" text-anchor=\"middle\">case</textPath>\n    </text>\n    <path class=\"displacy-arrowhead\" d=\"M2695,266.5 L2687,254.5 2703,254.5\" fill=\"currentColor\"/>\n</g>\n\n<g class=\"displacy-arrow\">\n    <path class=\"displacy-arc\" id=\"arrow-bbce56c9e76d45fca68ea77253be8d1e-0-14\" stroke-width=\"2px\" d=\"M2520,264.5 C2520,89.5 2845.0,89.5 2845.0,264.5\" fill=\"none\" stroke=\"currentColor\"/>\n    <text dy=\"1.25em\" style=\"font-size: 0.8em; letter-spacing: 1px\">\n        <textPath xlink:href=\"#arrow-bbce56c9e76d45fca68ea77253be8d1e-0-14\" class=\"displacy-label\" startOffset=\"50%\" side=\"left\" fill=\"currentColor\" text-anchor=\"middle\">obl</textPath>\n    </text>\n    <path class=\"displacy-arrowhead\" d=\"M2845.0,266.5 L2853.0,254.5 2837.0,254.5\" fill=\"currentColor\"/>\n</g>\n\n<g class=\"displacy-arrow\">\n    <path class=\"displacy-arc\" id=\"arrow-bbce56c9e76d45fca68ea77253be8d1e-0-15\" stroke-width=\"2px\" d=\"M2520,264.5 C2520,2.0 3025.0,2.0 3025.0,264.5\" fill=\"none\" stroke=\"currentColor\"/>\n    <text dy=\"1.25em\" style=\"font-size: 0.8em; letter-spacing: 1px\">\n        <textPath xlink:href=\"#arrow-bbce56c9e76d45fca68ea77253be8d1e-0-15\" class=\"displacy-label\" startOffset=\"50%\" side=\"left\" fill=\"currentColor\" text-anchor=\"middle\">advmod</textPath>\n    </text>\n    <path class=\"displacy-arrowhead\" d=\"M3025.0,266.5 L3033.0,254.5 3017.0,254.5\" fill=\"currentColor\"/>\n</g>\n\n<g class=\"displacy-arrow\">\n    <path class=\"displacy-arc\" id=\"arrow-bbce56c9e76d45fca68ea77253be8d1e-0-16\" stroke-width=\"2px\" d=\"M3395,264.5 C3395,177.0 3540.0,177.0 3540.0,264.5\" fill=\"none\" stroke=\"currentColor\"/>\n    <text dy=\"1.25em\" style=\"font-size: 0.8em; letter-spacing: 1px\">\n        <textPath xlink:href=\"#arrow-bbce56c9e76d45fca68ea77253be8d1e-0-16\" class=\"displacy-label\" startOffset=\"50%\" side=\"left\" fill=\"currentColor\" text-anchor=\"middle\">obj</textPath>\n    </text>\n    <path class=\"displacy-arrowhead\" d=\"M3395,266.5 L3387,254.5 3403,254.5\" fill=\"currentColor\"/>\n</g>\n\n<g class=\"displacy-arrow\">\n    <path class=\"displacy-arc\" id=\"arrow-bbce56c9e76d45fca68ea77253be8d1e-0-17\" stroke-width=\"2px\" d=\"M3220,264.5 C3220,89.5 3545.0,89.5 3545.0,264.5\" fill=\"none\" stroke=\"currentColor\"/>\n    <text dy=\"1.25em\" style=\"font-size: 0.8em; letter-spacing: 1px\">\n        <textPath xlink:href=\"#arrow-bbce56c9e76d45fca68ea77253be8d1e-0-17\" class=\"displacy-label\" startOffset=\"50%\" side=\"left\" fill=\"currentColor\" text-anchor=\"middle\">parataxis</textPath>\n    </text>\n    <path class=\"displacy-arrowhead\" d=\"M3545.0,266.5 L3553.0,254.5 3537.0,254.5\" fill=\"currentColor\"/>\n</g>\n\n<g class=\"displacy-arrow\">\n    <path class=\"displacy-arc\" id=\"arrow-bbce56c9e76d45fca68ea77253be8d1e-0-18\" stroke-width=\"2px\" d=\"M3745,264.5 C3745,177.0 3890.0,177.0 3890.0,264.5\" fill=\"none\" stroke=\"currentColor\"/>\n    <text dy=\"1.25em\" style=\"font-size: 0.8em; letter-spacing: 1px\">\n        <textPath xlink:href=\"#arrow-bbce56c9e76d45fca68ea77253be8d1e-0-18\" class=\"displacy-label\" startOffset=\"50%\" side=\"left\" fill=\"currentColor\" text-anchor=\"middle\">nsubj</textPath>\n    </text>\n    <path class=\"displacy-arrowhead\" d=\"M3745,266.5 L3737,254.5 3753,254.5\" fill=\"currentColor\"/>\n</g>\n\n<g class=\"displacy-arrow\">\n    <path class=\"displacy-arc\" id=\"arrow-bbce56c9e76d45fca68ea77253be8d1e-0-19\" stroke-width=\"2px\" d=\"M4095,264.5 C4095,177.0 4240.0,177.0 4240.0,264.5\" fill=\"none\" stroke=\"currentColor\"/>\n    <text dy=\"1.25em\" style=\"font-size: 0.8em; letter-spacing: 1px\">\n        <textPath xlink:href=\"#arrow-bbce56c9e76d45fca68ea77253be8d1e-0-19\" class=\"displacy-label\" startOffset=\"50%\" side=\"left\" fill=\"currentColor\" text-anchor=\"middle\">amod</textPath>\n    </text>\n    <path class=\"displacy-arrowhead\" d=\"M4095,266.5 L4087,254.5 4103,254.5\" fill=\"currentColor\"/>\n</g>\n\n<g class=\"displacy-arrow\">\n    <path class=\"displacy-arc\" id=\"arrow-bbce56c9e76d45fca68ea77253be8d1e-0-20\" stroke-width=\"2px\" d=\"M3920,264.5 C3920,89.5 4245.0,89.5 4245.0,264.5\" fill=\"none\" stroke=\"currentColor\"/>\n    <text dy=\"1.25em\" style=\"font-size: 0.8em; letter-spacing: 1px\">\n        <textPath xlink:href=\"#arrow-bbce56c9e76d45fca68ea77253be8d1e-0-20\" class=\"displacy-label\" startOffset=\"50%\" side=\"left\" fill=\"currentColor\" text-anchor=\"middle\">obj</textPath>\n    </text>\n    <path class=\"displacy-arrowhead\" d=\"M4245.0,266.5 L4253.0,254.5 4237.0,254.5\" fill=\"currentColor\"/>\n</g>\n</svg></span>"
     },
     "metadata": {},
     "output_type": "display_data"
    }
   ],
   "source": [
    "doc = nlp_md(\"\"\"\n",
    "– Эй, Газ, – позвал Моаш, приложив ладони рупором ко рту.\n",
    "Одноглазый коротышка-сержант разговаривал с солдатами неподалеку.\n",
    "– Чего надо? – Тот скорчил недовольную мину.\n",
    "\"\"\")\n",
    "displacy.render(doc, style=\"dep\")"
   ],
   "metadata": {
    "collapsed": false,
    "pycharm": {
     "name": "#%%\n"
    }
   }
  }
 ],
 "metadata": {
  "kernelspec": {
   "display_name": "Python 3 (ipykernel)",
   "language": "python",
   "name": "python3"
  },
  "language_info": {
   "codemirror_mode": {
    "name": "ipython",
    "version": 3
   },
   "file_extension": ".py",
   "mimetype": "text/x-python",
   "name": "python",
   "nbconvert_exporter": "python",
   "pygments_lexer": "ipython3",
   "version": "3.8.10"
  }
 },
 "nbformat": 4,
 "nbformat_minor": 1
}
